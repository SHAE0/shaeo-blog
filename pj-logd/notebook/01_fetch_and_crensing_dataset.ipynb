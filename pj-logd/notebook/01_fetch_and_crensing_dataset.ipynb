{
 "cells": [
  {
   "cell_type": "markdown",
   "metadata": {},
   "source": [
    "## 環境\n",
    "- OS: Ubuntu 22.04.3 LTS\n",
    "- CPU: AMD Ryzen 7 5700X 8-Core Processor\n",
    "- GPU: NVIDIA GeForce RTX 3060 Ti\n",
    "- メモリ: 32GB\n",
    "- Python: 3.9.21 (conda環境)"
   ]
  },
  {
   "cell_type": "markdown",
   "metadata": {},
   "source": [
    "## ライブラリ"
   ]
  },
  {
   "cell_type": "code",
   "execution_count": 10,
   "metadata": {},
   "outputs": [],
   "source": [
    "# 使用するライブラリ\n",
    "\n",
    "import os\n",
    "\n",
    "from chembl_webresource_client.new_client import new_client\n",
    "from molvs.charge import Uncharger\n",
    "import numpy as np\n",
    "import pandas as pd\n",
    "from rdkit import Chem, RDLogger\n",
    "from rdkit.Chem.MolStandardize import rdMolStandardize\n",
    "import matplotlib.pyplot as plt"
   ]
  },
  {
   "cell_type": "markdown",
   "metadata": {},
   "source": [
    "## データ取得: ChEMBL"
   ]
  },
  {
   "cell_type": "code",
   "execution_count": 11,
   "metadata": {},
   "outputs": [
    {
     "data": {
      "text/plain": [
       "27337"
      ]
     },
     "execution_count": 11,
     "metadata": {},
     "output_type": "execute_result"
    }
   ],
   "source": [
    "# ChEMBLからデータを取得する\n",
    "activity = new_client.activity\n",
    "act = activity.filter(standard_type='LogD', standard_relation='=', )\n",
    "len(act)"
   ]
  },
  {
   "cell_type": "code",
   "execution_count": 12,
   "metadata": {},
   "outputs": [],
   "source": [
    "# データをpandasのDataFrameに格納する（時間がかかる）\n",
    "df = pd.DataFrame.from_records(act)"
   ]
  },
  {
   "cell_type": "code",
   "execution_count": 13,
   "metadata": {},
   "outputs": [],
   "source": [
    "# データをcsvとして保存する\n",
    "os.makedirs('~/shaeo-blog/pj-logd/dataset', exist_ok=True)\n",
    "df.to_csv('~/shaeo-blog/pj-logd/dataset/chembl_logd.csv')"
   ]
  },
  {
   "cell_type": "markdown",
   "metadata": {},
   "source": [
    "## クレンジング"
   ]
  },
  {
   "cell_type": "markdown",
   "metadata": {},
   "source": [
    "### pH7.4の実験条件で取得されたデータの抽出"
   ]
  },
  {
   "cell_type": "code",
   "execution_count": 56,
   "metadata": {},
   "outputs": [
    {
     "name": "stdout",
     "output_type": "stream",
     "text": [
      "pH7.4条件抽出前のデータ数:  27326\n",
      "pH7.4条件抽出後のデータ数:  18091\n"
     ]
    },
    {
     "name": "stderr",
     "output_type": "stream",
     "text": [
      "/tmp/ipykernel_1093091/152355568.py:2: DtypeWarning: Columns (43) have mixed types. Specify dtype option on import or set low_memory=False.\n",
      "  df = pd.read_csv('~/shaeo-blog/pj-logd/dataset/chembl_logd.csv')\n"
     ]
    }
   ],
   "source": [
    "# データの読み込み\n",
    "df = pd.read_csv('~/shaeo-blog/pj-logd/dataset/chembl_logd.csv')\n",
    "\n",
    "# standard_valueが欠損しているデータを削除\n",
    "df = df[~df['standard_value'].isna()]   # standard_value列の欠損値以外のデータを抽出\n",
    "\n",
    "# pH7.4条件の抽出\n",
    "filtered_df = df[df['assay_description'].str.contains('7.4', na=False)] # assay_description列に'7.4'が含まれる行を抽出\n",
    "print('pH7.4条件抽出前のデータ数: ', len(df))\n",
    "print('pH7.4条件抽出後のデータ数: ', len(filtered_df))"
   ]
  },
  {
   "cell_type": "markdown",
   "metadata": {},
   "source": [
    "### 構造情報の標準化（塩の測定データの除去、イオンの中和）"
   ]
  },
  {
   "cell_type": "code",
   "execution_count": 57,
   "metadata": {},
   "outputs": [
    {
     "name": "stderr",
     "output_type": "stream",
     "text": [
      "/tmp/ipykernel_1093091/4080925054.py:20: SettingWithCopyWarning: \n",
      "A value is trying to be set on a copy of a slice from a DataFrame.\n",
      "Try using .loc[row_indexer,col_indexer] = value instead\n",
      "\n",
      "See the caveats in the documentation: https://pandas.pydata.org/pandas-docs/stable/user_guide/indexing.html#returning-a-view-versus-a-copy\n",
      "  filtered_df['has_salt'] = filtered_df['canonical_smiles'].map(has_salt)\n"
     ]
    },
    {
     "name": "stdout",
     "output_type": "stream",
     "text": [
      "塩の化合物数:  700\n",
      "RDkitでの読み込みに失敗した化合物数:  35\n"
     ]
    },
    {
     "name": "stderr",
     "output_type": "stream",
     "text": [
      "/tmp/ipykernel_1093091/4080925054.py:41: SettingWithCopyWarning: \n",
      "A value is trying to be set on a copy of a slice from a DataFrame.\n",
      "Try using .loc[row_indexer,col_indexer] = value instead\n",
      "\n",
      "See the caveats in the documentation: https://pandas.pydata.org/pandas-docs/stable/user_guide/indexing.html#returning-a-view-versus-a-copy\n",
      "  filtered_df2['change_neutlized_flag'] = filtered_df2['canonical_smiles'].map(check_neutlized)\n"
     ]
    },
    {
     "name": "stdout",
     "output_type": "stream",
     "text": [
      "中和された化合物数:  0\n",
      "標準化前のデータ数:  18091\n",
      "標準化後のデータ数:  17356\n"
     ]
    },
    {
     "name": "stderr",
     "output_type": "stream",
     "text": [
      "/tmp/ipykernel_1093091/4080925054.py:45: SettingWithCopyWarning: \n",
      "A value is trying to be set on a copy of a slice from a DataFrame.\n",
      "Try using .loc[row_indexer,col_indexer] = value instead\n",
      "\n",
      "See the caveats in the documentation: https://pandas.pydata.org/pandas-docs/stable/user_guide/indexing.html#returning-a-view-versus-a-copy\n",
      "  filtered_df2['canonical_smiles'] = filtered_df2['canonical_smiles'].map(lambda x: Chem.MolToSmiles(uncharger(Chem.MolFromSmiles(x)), isomericSmiles=True, canonical=True))\n"
     ]
    }
   ],
   "source": [
    "# 塩が含まれるかどうかを判定する関数\n",
    "def has_salt(smi):\n",
    "\n",
    "    # もとのSMILESをRDkitのcanonical表現に変換\n",
    "    try:\n",
    "        mol = Chem.MolFromSmiles(smi)\n",
    "        original_smiles = Chem.MolToSmiles(mol, isomericSmiles=True, canonical=True)\n",
    "    except:\n",
    "        return np.nan\n",
    "\n",
    "    # 分子内の最大フラグメントを抽出する\n",
    "    parent_mol = rdMolStandardize.FragmentParent(mol)\n",
    "    \n",
    "    # 最大フラグメント抽出後のSMILES\n",
    "    parent_smiles = Chem.MolToSmiles(parent_mol)\n",
    "\n",
    "    return original_smiles != parent_smiles # 変化したかどうかを判定\n",
    "\n",
    "# 塩を判定するカラムを追加\n",
    "filtered_df['has_salt'] = filtered_df['canonical_smiles'].map(has_salt)\n",
    "print('塩の化合物数: ', (filtered_df['has_salt']==True).sum())\n",
    "print('RDkitでの読み込みに失敗した化合物数: ', filtered_df['has_salt'].isna().sum())\n",
    "\n",
    "# 塩以外のデータを抽出\n",
    "filtered_df2 = filtered_df[filtered_df['has_salt']==False]\n",
    "\n",
    "# 中和で構造情報が変わるかどうかを判定する関数\n",
    "def check_neutlized(smi):\n",
    "\n",
    "    # もとのSMILESをRDkitのcanonical表現に変換\n",
    "    mol = Chem.MolFromSmiles(smi)\n",
    "    original_smiles = Chem.MolToSmiles(mol, isomericSmiles=True, canonical=True)\n",
    "\n",
    "    # 構造を中和する\n",
    "    neutlized_mol = uncharger(mol)\n",
    "    neutlized_smiles = Chem.MolToSmiles(neutlized_mol) # 中和後のSMILES\n",
    "\n",
    "    return original_smiles != neutlized_smiles # 変化したかどうかを判定\n",
    "\n",
    "# 中和を判定するカラムを追加\n",
    "filtered_df2['change_neutlized_flag'] = filtered_df2['canonical_smiles'].map(check_neutlized)\n",
    "print('中和された化合物数: ', (filtered_df2['change_neutlized_flag']==True).sum())\n",
    "\n",
    "# 構造情報を中和する\n",
    "filtered_df2['canonical_smiles'] = filtered_df2['canonical_smiles'].map(lambda x: Chem.MolToSmiles(uncharger(Chem.MolFromSmiles(x)), isomericSmiles=True, canonical=True))\n",
    "\n",
    "print('標準化前のデータ数: ', len(filtered_df))\n",
    "print('標準化後のデータ数: ', len(filtered_df2))"
   ]
  },
  {
   "cell_type": "markdown",
   "metadata": {},
   "source": [
    "### 重複データの処理"
   ]
  },
  {
   "cell_type": "code",
   "execution_count": 58,
   "metadata": {},
   "outputs": [
    {
     "data": {
      "text/html": [
       "<div>\n",
       "<style scoped>\n",
       "    .dataframe tbody tr th:only-of-type {\n",
       "        vertical-align: middle;\n",
       "    }\n",
       "\n",
       "    .dataframe tbody tr th {\n",
       "        vertical-align: top;\n",
       "    }\n",
       "\n",
       "    .dataframe thead th {\n",
       "        text-align: right;\n",
       "    }\n",
       "</style>\n",
       "<table border=\"1\" class=\"dataframe\">\n",
       "  <thead>\n",
       "    <tr style=\"text-align: right;\">\n",
       "      <th></th>\n",
       "      <th>canonical_smiles</th>\n",
       "      <th>standard_value</th>\n",
       "    </tr>\n",
       "  </thead>\n",
       "  <tbody>\n",
       "    <tr>\n",
       "      <th>0</th>\n",
       "      <td>Brc1c(NC2=NCCN2)ccc2nccnc12</td>\n",
       "      <td>0.31</td>\n",
       "    </tr>\n",
       "    <tr>\n",
       "      <th>1</th>\n",
       "      <td>Brc1cc(Br)c(N=C2NCCN2)c(Br)c1</td>\n",
       "      <td>2.51</td>\n",
       "    </tr>\n",
       "    <tr>\n",
       "      <th>2</th>\n",
       "      <td>Brc1ccc(-c2nc(-c3ccc4nc[nH]c4c3)no2)cc1</td>\n",
       "      <td>3.54</td>\n",
       "    </tr>\n",
       "    <tr>\n",
       "      <th>3</th>\n",
       "      <td>Brc1ccc(Br)c(N(CC2CC2)C2=NCCN2)c1</td>\n",
       "      <td>-0.52</td>\n",
       "    </tr>\n",
       "    <tr>\n",
       "      <th>4</th>\n",
       "      <td>Brc1ccc(Cc2nn[nH]n2)cc1</td>\n",
       "      <td>-0.42</td>\n",
       "    </tr>\n",
       "    <tr>\n",
       "      <th>...</th>\n",
       "      <td>...</td>\n",
       "      <td>...</td>\n",
       "    </tr>\n",
       "    <tr>\n",
       "      <th>16296</th>\n",
       "      <td>c1nc(N[C@H]2CC[C@H](N3CCOCC3)CC2)c2c(C3CCOCC3)...</td>\n",
       "      <td>1.50</td>\n",
       "    </tr>\n",
       "    <tr>\n",
       "      <th>16297</th>\n",
       "      <td>c1nc(N[C@H]2CC[C@H](N3CCOCC3)CC2)c2c(C3CCOCC3)...</td>\n",
       "      <td>1.90</td>\n",
       "    </tr>\n",
       "    <tr>\n",
       "      <th>16298</th>\n",
       "      <td>c1nc(OC2CCN(Cc3cscn3)CC2)c2ccn(CC3CCCCC3)c2n1</td>\n",
       "      <td>4.32</td>\n",
       "    </tr>\n",
       "    <tr>\n",
       "      <th>16299</th>\n",
       "      <td>c1nc(O[C@H]2CC[C@H](N3CCOCC3)CC2)c2c(C3CCOCC3)...</td>\n",
       "      <td>2.40</td>\n",
       "    </tr>\n",
       "    <tr>\n",
       "      <th>16300</th>\n",
       "      <td>c1nc(S[C@H]2CC[C@H](N3CCOCC3)CC2)c2c(C3CCOCC3)...</td>\n",
       "      <td>3.00</td>\n",
       "    </tr>\n",
       "  </tbody>\n",
       "</table>\n",
       "<p>16301 rows × 2 columns</p>\n",
       "</div>"
      ],
      "text/plain": [
       "                                        canonical_smiles  standard_value\n",
       "0                            Brc1c(NC2=NCCN2)ccc2nccnc12            0.31\n",
       "1                          Brc1cc(Br)c(N=C2NCCN2)c(Br)c1            2.51\n",
       "2                Brc1ccc(-c2nc(-c3ccc4nc[nH]c4c3)no2)cc1            3.54\n",
       "3                      Brc1ccc(Br)c(N(CC2CC2)C2=NCCN2)c1           -0.52\n",
       "4                                Brc1ccc(Cc2nn[nH]n2)cc1           -0.42\n",
       "...                                                  ...             ...\n",
       "16296  c1nc(N[C@H]2CC[C@H](N3CCOCC3)CC2)c2c(C3CCOCC3)...            1.50\n",
       "16297  c1nc(N[C@H]2CC[C@H](N3CCOCC3)CC2)c2c(C3CCOCC3)...            1.90\n",
       "16298      c1nc(OC2CCN(Cc3cscn3)CC2)c2ccn(CC3CCCCC3)c2n1            4.32\n",
       "16299  c1nc(O[C@H]2CC[C@H](N3CCOCC3)CC2)c2c(C3CCOCC3)...            2.40\n",
       "16300  c1nc(S[C@H]2CC[C@H](N3CCOCC3)CC2)c2c(C3CCOCC3)...            3.00\n",
       "\n",
       "[16301 rows x 2 columns]"
      ]
     },
     "execution_count": 58,
     "metadata": {},
     "output_type": "execute_result"
    }
   ],
   "source": [
    "# SMILESが重複する行の処理\n",
    "\n",
    "# canonical_smiles列でグルーピングして、各グループのstandard_valueを平均する\n",
    "filtered_df3 = filtered_df2.groupby('canonical_smiles', as_index=False)['standard_value'].mean()\n",
    "filtered_df3"
   ]
  },
  {
   "cell_type": "code",
   "execution_count": 63,
   "metadata": {},
   "outputs": [
    {
     "name": "stdout",
     "output_type": "stream",
     "text": [
      "LogD standard_value:  4872.0\n"
     ]
    },
    {
     "data": {
      "image/png": "[encoded data removed]",
      "text/plain": [
       "<rdkit.Chem.rdchem.Mol at 0x78be7749c580>"
      ]
     },
     "execution_count": 63,
     "metadata": {},
     "output_type": "execute_result"
    }
   ],
   "source": [
    "# LogDの最大値を持つ化合物\n",
    "print('LogD standard_value: ', filtered_df3.sort_values(by='standard_value').iloc[-1, 1])\n",
    "Chem.MolFromSmiles(filtered_df3.sort_values(by='standard_value').iloc[-1, 0])"
   ]
  },
  {
   "cell_type": "code",
   "execution_count": 64,
   "metadata": {},
   "outputs": [
    {
     "name": "stdout",
     "output_type": "stream",
     "text": [
      "LogD standard_value:  -13.29\n"
     ]
    },
    {
     "data": {
      "image/png": "[encoded data removed]",
      "text/plain": [
       "<rdkit.Chem.rdchem.Mol at 0x78be7749c200>"
      ]
     },
     "execution_count": 64,
     "metadata": {},
     "output_type": "execute_result"
    }
   ],
   "source": [
    "# LogDの最小値を持つ化合物\n",
    "print('LogD standard_value: ', filtered_df3.sort_values(by='standard_value').iloc[0, 1])\n",
    "Chem.MolFromSmiles(filtered_df3.sort_values(by='standard_value').iloc[0, 0])"
   ]
  },
  {
   "cell_type": "markdown",
   "metadata": {},
   "source": [
    "### 外れ値の除去"
   ]
  },
  {
   "cell_type": "code",
   "execution_count": 66,
   "metadata": {},
   "outputs": [
    {
     "name": "stdout",
     "output_type": "stream",
     "text": [
      "****************************************************************************************************\n",
      "外れ値除去前の最大値:  -13.29\n",
      "外れ値除去前の最大値:  4872.0\n",
      "外れ値除去前の第一四分位数:  1.52\n",
      "外れ値除去前の第三四分位数:  3.3499999999999996\n",
      "****************************************************************************************************\n",
      "外れ値除去後の最大値:  -1.22\n",
      "外れ値除去後の最大値:  6.09\n",
      "外れ値除去後の第一四分位数:  1.6\n",
      "外れ値除去後の第三四分位数:  3.3\n",
      "****************************************************************************************************\n",
      "外れ値除去前のデータ数:  16301\n",
      "外れ値除去後のデータ数:  15746\n"
     ]
    }
   ],
   "source": [
    "# 外れ値の除去\n",
    "\n",
    "# IQR（四分位範囲）と最大・最小値の計算\n",
    "q1 = filtered_df3['standard_value'].quantile(0.25) #Q1（第一四分位数）\n",
    "q3 = filtered_df3['standard_value'].quantile(0.75) #Q3（第三四分位数）\n",
    "_min = filtered_df3['standard_value'].min()\n",
    "_max = filtered_df3['standard_value'].max()\n",
    "iqr = q3 -q1\n",
    "print('*'*100)\n",
    "print('外れ値除去前の最大値: ', _min)\n",
    "print('外れ値除去前の最大値: ', _max)\n",
    "print('外れ値除去前の第一四分位数: ', q1)\n",
    "print('外れ値除去前の第三四分位数: ', q3)\n",
    "print('*'*100)\n",
    "\n",
    "# 外れ値の除去: (Q1 - 1.5*IQR) ~ (Q3 + 1.5*IQR) の範囲から外れるものを外れ値として扱う\n",
    "filtered_df4 = filtered_df3.query('(@q1 - 1.5 * @iqr <= standard_value <= @q3 + 1.5 * @iqr)')\n",
    "filterd_q1 = filtered_df4['standard_value'].quantile(0.25) #Q1（第一四分位数）\n",
    "filterd_q3 = filtered_df4['standard_value'].quantile(0.75) #Q3（第三四分位数）\n",
    "filterd_min = filtered_df4['standard_value'].min()\n",
    "filterd_max = filtered_df4['standard_value'].max()\n",
    "print('外れ値除去後の最大値: ', filterd_min)\n",
    "print('外れ値除去後の最大値: ', filterd_max)\n",
    "print('外れ値除去後の第一四分位数: ', filterd_q1)\n",
    "print('外れ値除去後の第三四分位数: ', filterd_q3)\n",
    "print('*'*100)\n",
    "print('外れ値除去前のデータ数: ', len(filtered_df3))\n",
    "print('外れ値除去後のデータ数: ', len(filtered_df4))"
   ]
  },
  {
   "cell_type": "markdown",
   "metadata": {},
   "source": [
    "### データの保存"
   ]
  },
  {
   "cell_type": "code",
   "execution_count": 67,
   "metadata": {},
   "outputs": [],
   "source": [
    "# データの保存\n",
    "filtered_df4.to_csv('~/shaeo-blog/pj-logd/dataset/chembl_logd_crensing.csv', index=False)"
   ]
  },
  {
   "cell_type": "markdown",
   "metadata": {},
   "source": [
    "## データ分割\n",
    "- 訓練データとテストデータを1:1に分割（random split）。\n",
    "- 目的変数によっては特徴量による分割等の方がより実践的な精度を確認できる。LogDは分割方法で精度が変わりづらい印象があるので今回はランダムに分割。\n",
    "- ヒストグラムは分布に偏りがないか確認するために作成。"
   ]
  },
  {
   "cell_type": "code",
   "execution_count": 77,
   "metadata": {},
   "outputs": [],
   "source": [
    "# データの読み込み\n",
    "df = pd.read_csv('~/shaeo-blog/pj-logd/dataset/chembl_logd_crensing.csv')\n",
    "\n",
    "# データの分割\n",
    "df_train = df.sample(frac=0.5, random_state=42)\n",
    "df_test = df.drop(index=df_train.index)\n",
    "\n",
    "# データの保存\n",
    "df_train.to_csv('~/shaeo-blog/pj-logd/dataset/train.csv', index=False)\n",
    "df_test.to_csv('~/shaeo-blog/pj-logd/dataset/test.csv', index=False)"
   ]
  },
  {
   "cell_type": "code",
   "execution_count": 80,
   "metadata": {},
   "outputs": [
    {
     "data": {
      "image/png": "[encoded data removed]",
      "text/plain": [
       "<Figure size 640x480 with 1 Axes>"
      ]
     },
     "metadata": {},
     "output_type": "display_data"
    }
   ],
   "source": [
    "# ヒストグラムによる分布の確認\n",
    "\n",
    "df_train['standard_value'].hist(bins=20, alpha=0.5)\n",
    "df_test['standard_value'].hist(bins=20, alpha=0.5)\n",
    "\n",
    "plt.show()"
   ]
  },
  {
   "cell_type": "code",
   "execution_count": null,
   "metadata": {},
   "outputs": [],
   "source": []
  }
 ],
 "metadata": {
  "kernelspec": {
   "display_name": "pj-logd",
   "language": "python",
   "name": "python3"
  },
  "language_info": {
   "codemirror_mode": {
    "name": "ipython",
    "version": 3
   },
   "file_extension": ".py",
   "mimetype": "text/x-python",
   "name": "python",
   "nbconvert_exporter": "python",
   "pygments_lexer": "ipython3",
   "version": "3.9.21"
  }
 },
 "nbformat": 4,
 "nbformat_minor": 2
}
